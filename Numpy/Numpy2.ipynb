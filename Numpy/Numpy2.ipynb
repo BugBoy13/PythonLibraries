{
  "nbformat": 4,
  "nbformat_minor": 0,
  "metadata": {
    "colab": {
      "name": "Numpy2.ipynb",
      "version": "0.3.2",
      "provenance": []
    },
    "kernelspec": {
      "name": "python3",
      "display_name": "Python 3"
    }
  },
  "cells": [
    {
      "cell_type": "code",
      "metadata": {
        "id": "XgmTg2apRIS6",
        "colab_type": "code",
        "colab": {}
      },
      "source": [
        "import numpy as np"
      ],
      "execution_count": 0,
      "outputs": []
    },
    {
      "cell_type": "code",
      "metadata": {
        "id": "KkQ_d6MBRPgX",
        "colab_type": "code",
        "colab": {}
      },
      "source": [
        "M = np.array([[1, 2], [3, 4]])"
      ],
      "execution_count": 0,
      "outputs": []
    },
    {
      "cell_type": "code",
      "metadata": {
        "id": "uMirLfRbRV0W",
        "colab_type": "code",
        "colab": {}
      },
      "source": [
        "L = [[1, 2], [3, 4]]"
      ],
      "execution_count": 0,
      "outputs": []
    },
    {
      "cell_type": "code",
      "metadata": {
        "id": "aMZUrdAiRh06",
        "colab_type": "code",
        "colab": {
          "base_uri": "https://localhost:8080/",
          "height": 34
        },
        "outputId": "7f738bdc-2ef7-4ebf-f004-40dd0a4b4014"
      },
      "source": [
        "L[0]"
      ],
      "execution_count": 11,
      "outputs": [
        {
          "output_type": "execute_result",
          "data": {
            "text/plain": [
              "[1, 2]"
            ]
          },
          "metadata": {
            "tags": []
          },
          "execution_count": 11
        }
      ]
    },
    {
      "cell_type": "code",
      "metadata": {
        "id": "-0RERlB2Rlmy",
        "colab_type": "code",
        "colab": {
          "base_uri": "https://localhost:8080/",
          "height": 34
        },
        "outputId": "2c26e3e5-7e3c-4e28-bd36-c7a8756d474f"
      },
      "source": [
        "L[0][0]"
      ],
      "execution_count": 12,
      "outputs": [
        {
          "output_type": "execute_result",
          "data": {
            "text/plain": [
              "1"
            ]
          },
          "metadata": {
            "tags": []
          },
          "execution_count": 12
        }
      ]
    },
    {
      "cell_type": "code",
      "metadata": {
        "id": "FvJiR5y9RpFz",
        "colab_type": "code",
        "colab": {
          "base_uri": "https://localhost:8080/",
          "height": 34
        },
        "outputId": "1a1661e6-2c0a-416a-d0f1-cf8456226379"
      },
      "source": [
        "M[0][0]"
      ],
      "execution_count": 13,
      "outputs": [
        {
          "output_type": "execute_result",
          "data": {
            "text/plain": [
              "1"
            ]
          },
          "metadata": {
            "tags": []
          },
          "execution_count": 13
        }
      ]
    },
    {
      "cell_type": "code",
      "metadata": {
        "id": "Jk2DCO9YRqcq",
        "colab_type": "code",
        "colab": {
          "base_uri": "https://localhost:8080/",
          "height": 34
        },
        "outputId": "45091890-e2a7-4c41-d801-8cc719f59aeb"
      },
      "source": [
        "M[0,0]"
      ],
      "execution_count": 14,
      "outputs": [
        {
          "output_type": "execute_result",
          "data": {
            "text/plain": [
              "1"
            ]
          },
          "metadata": {
            "tags": []
          },
          "execution_count": 14
        }
      ]
    },
    {
      "cell_type": "code",
      "metadata": {
        "id": "dWR5f_afRsSY",
        "colab_type": "code",
        "colab": {
          "base_uri": "https://localhost:8080/",
          "height": 51
        },
        "outputId": "e52006d8-0f46-46d9-caf8-675bf39548da"
      },
      "source": [
        "M"
      ],
      "execution_count": 15,
      "outputs": [
        {
          "output_type": "execute_result",
          "data": {
            "text/plain": [
              "array([[1, 2],\n",
              "       [3, 4]])"
            ]
          },
          "metadata": {
            "tags": []
          },
          "execution_count": 15
        }
      ]
    },
    {
      "cell_type": "code",
      "metadata": {
        "id": "46Ftyr_0Ru-r",
        "colab_type": "code",
        "colab": {}
      },
      "source": [
        "M2 = np.matrix([[1, 2], [3, 4]])"
      ],
      "execution_count": 0,
      "outputs": []
    },
    {
      "cell_type": "code",
      "metadata": {
        "id": "8if2gvO_R1Nz",
        "colab_type": "code",
        "colab": {
          "base_uri": "https://localhost:8080/",
          "height": 51
        },
        "outputId": "ed64b50c-ce5a-4cfc-b74e-8561d63fd2c5"
      },
      "source": [
        "M2"
      ],
      "execution_count": 17,
      "outputs": [
        {
          "output_type": "execute_result",
          "data": {
            "text/plain": [
              "matrix([[1, 2],\n",
              "        [3, 4]])"
            ]
          },
          "metadata": {
            "tags": []
          },
          "execution_count": 17
        }
      ]
    },
    {
      "cell_type": "code",
      "metadata": {
        "id": "KOFUv9tFR2HY",
        "colab_type": "code",
        "colab": {}
      },
      "source": [
        "A = np.array(M2)"
      ],
      "execution_count": 0,
      "outputs": []
    },
    {
      "cell_type": "code",
      "metadata": {
        "id": "Vf0wuTDUR-69",
        "colab_type": "code",
        "colab": {
          "base_uri": "https://localhost:8080/",
          "height": 51
        },
        "outputId": "8b35af04-b9c1-490d-ee3c-97218101363f"
      },
      "source": [
        "A"
      ],
      "execution_count": 19,
      "outputs": [
        {
          "output_type": "execute_result",
          "data": {
            "text/plain": [
              "array([[1, 2],\n",
              "       [3, 4]])"
            ]
          },
          "metadata": {
            "tags": []
          },
          "execution_count": 19
        }
      ]
    },
    {
      "cell_type": "code",
      "metadata": {
        "id": "wwztW5fIR_bt",
        "colab_type": "code",
        "colab": {
          "base_uri": "https://localhost:8080/",
          "height": 51
        },
        "outputId": "192cc480-e4d7-4879-adcd-033ae04a547e"
      },
      "source": [
        "A.T"
      ],
      "execution_count": 20,
      "outputs": [
        {
          "output_type": "execute_result",
          "data": {
            "text/plain": [
              "array([[1, 3],\n",
              "       [2, 4]])"
            ]
          },
          "metadata": {
            "tags": []
          },
          "execution_count": 20
        }
      ]
    },
    {
      "cell_type": "code",
      "metadata": {
        "id": "hz6_CiiMSCNh",
        "colab_type": "code",
        "colab": {
          "base_uri": "https://localhost:8080/",
          "height": 34
        },
        "outputId": "977f9f01-e09a-4612-db54-ae0ee2a82061"
      },
      "source": [
        "# Creating an array of zeros\n",
        "Z = np.zeros(10)\n",
        "Z"
      ],
      "execution_count": 21,
      "outputs": [
        {
          "output_type": "execute_result",
          "data": {
            "text/plain": [
              "array([0., 0., 0., 0., 0., 0., 0., 0., 0., 0.])"
            ]
          },
          "metadata": {
            "tags": []
          },
          "execution_count": 21
        }
      ]
    },
    {
      "cell_type": "code",
      "metadata": {
        "id": "I-dT4rrETlmp",
        "colab_type": "code",
        "colab": {
          "base_uri": "https://localhost:8080/",
          "height": 187
        },
        "outputId": "c22b4f4e-c096-4fa6-b164-2c85a1b16db5"
      },
      "source": [
        "Z = np.zeros((10,10))\n",
        "Z"
      ],
      "execution_count": 22,
      "outputs": [
        {
          "output_type": "execute_result",
          "data": {
            "text/plain": [
              "array([[0., 0., 0., 0., 0., 0., 0., 0., 0., 0.],\n",
              "       [0., 0., 0., 0., 0., 0., 0., 0., 0., 0.],\n",
              "       [0., 0., 0., 0., 0., 0., 0., 0., 0., 0.],\n",
              "       [0., 0., 0., 0., 0., 0., 0., 0., 0., 0.],\n",
              "       [0., 0., 0., 0., 0., 0., 0., 0., 0., 0.],\n",
              "       [0., 0., 0., 0., 0., 0., 0., 0., 0., 0.],\n",
              "       [0., 0., 0., 0., 0., 0., 0., 0., 0., 0.],\n",
              "       [0., 0., 0., 0., 0., 0., 0., 0., 0., 0.],\n",
              "       [0., 0., 0., 0., 0., 0., 0., 0., 0., 0.],\n",
              "       [0., 0., 0., 0., 0., 0., 0., 0., 0., 0.]])"
            ]
          },
          "metadata": {
            "tags": []
          },
          "execution_count": 22
        }
      ]
    },
    {
      "cell_type": "code",
      "metadata": {
        "id": "8DXm6TPwTryg",
        "colab_type": "code",
        "colab": {}
      },
      "source": [
        "O = np.ones((10,10))"
      ],
      "execution_count": 0,
      "outputs": []
    },
    {
      "cell_type": "code",
      "metadata": {
        "id": "zWgeOx8UT0wS",
        "colab_type": "code",
        "colab": {
          "base_uri": "https://localhost:8080/",
          "height": 187
        },
        "outputId": "10354cd8-d8d3-4d6c-fa91-67ffb3d8829d"
      },
      "source": [
        "O"
      ],
      "execution_count": 24,
      "outputs": [
        {
          "output_type": "execute_result",
          "data": {
            "text/plain": [
              "array([[1., 1., 1., 1., 1., 1., 1., 1., 1., 1.],\n",
              "       [1., 1., 1., 1., 1., 1., 1., 1., 1., 1.],\n",
              "       [1., 1., 1., 1., 1., 1., 1., 1., 1., 1.],\n",
              "       [1., 1., 1., 1., 1., 1., 1., 1., 1., 1.],\n",
              "       [1., 1., 1., 1., 1., 1., 1., 1., 1., 1.],\n",
              "       [1., 1., 1., 1., 1., 1., 1., 1., 1., 1.],\n",
              "       [1., 1., 1., 1., 1., 1., 1., 1., 1., 1.],\n",
              "       [1., 1., 1., 1., 1., 1., 1., 1., 1., 1.],\n",
              "       [1., 1., 1., 1., 1., 1., 1., 1., 1., 1.],\n",
              "       [1., 1., 1., 1., 1., 1., 1., 1., 1., 1.]])"
            ]
          },
          "metadata": {
            "tags": []
          },
          "execution_count": 24
        }
      ]
    },
    {
      "cell_type": "code",
      "metadata": {
        "id": "Ok6GP6rbT1ny",
        "colab_type": "code",
        "colab": {
          "base_uri": "https://localhost:8080/",
          "height": 527
        },
        "outputId": "cdffc207-d257-4e97-e1bf-f4225e2c2273"
      },
      "source": [
        "R = np.random.random((10,10))\n",
        "R"
      ],
      "execution_count": 26,
      "outputs": [
        {
          "output_type": "execute_result",
          "data": {
            "text/plain": [
              "array([[1.93099073e-01, 6.17056293e-01, 3.39559052e-01, 4.14097679e-01,\n",
              "        1.44252855e-01, 1.90901793e-01, 5.07499553e-01, 5.82608057e-01,\n",
              "        8.55552933e-01, 2.02699259e-01],\n",
              "       [2.45849902e-01, 8.79310888e-01, 7.07410646e-01, 6.06468414e-01,\n",
              "        9.26821873e-01, 6.11977778e-01, 8.70780546e-01, 6.98362238e-01,\n",
              "        9.94074172e-01, 5.01909298e-01],\n",
              "       [3.11490715e-01, 1.49762550e-01, 4.22680188e-01, 4.39399600e-01,\n",
              "        2.14044083e-01, 2.69309711e-01, 7.24853897e-01, 2.37335654e-01,\n",
              "        8.02106892e-01, 8.82663762e-01],\n",
              "       [7.19922556e-01, 6.51130020e-01, 7.03521791e-01, 4.44224444e-01,\n",
              "        8.01065553e-01, 7.87208702e-01, 1.84498411e-01, 1.19741516e-01,\n",
              "        2.40099979e-01, 2.74912169e-03],\n",
              "       [2.75545248e-01, 4.12750911e-02, 6.39537058e-01, 6.84779612e-01,\n",
              "        3.56278879e-01, 9.32020994e-01, 8.03090183e-01, 2.24633878e-01,\n",
              "        5.62504805e-01, 4.41548814e-01],\n",
              "       [6.68017907e-02, 4.75733320e-04, 8.55556019e-01, 6.80049111e-01,\n",
              "        5.75990457e-01, 6.46063595e-01, 9.81495745e-02, 2.54516601e-01,\n",
              "        9.26673682e-01, 2.11202914e-01],\n",
              "       [2.83714890e-01, 9.57672055e-01, 1.17812106e-01, 4.06239253e-01,\n",
              "        4.67458188e-01, 2.45482670e-01, 5.66369069e-01, 6.68303953e-01,\n",
              "        9.46596182e-01, 6.04260999e-01],\n",
              "       [3.39528854e-01, 6.47229182e-01, 4.27183309e-01, 4.84878341e-01,\n",
              "        4.50966100e-01, 9.71439294e-01, 9.95113504e-01, 4.98650773e-01,\n",
              "        3.37911144e-01, 9.58282656e-01],\n",
              "       [7.92883178e-01, 5.80265017e-01, 9.13387256e-01, 5.90454530e-01,\n",
              "        8.47260521e-01, 7.52157828e-01, 4.14549768e-02, 3.43803565e-01,\n",
              "        7.60740057e-01, 2.53952980e-01],\n",
              "       [6.82771681e-01, 6.81907722e-01, 5.32698766e-01, 1.21190084e-01,\n",
              "        8.20894350e-01, 3.95787854e-01, 8.36219526e-01, 1.31949829e-01,\n",
              "        4.78042270e-01, 5.80300289e-01]])"
            ]
          },
          "metadata": {
            "tags": []
          },
          "execution_count": 26
        }
      ]
    },
    {
      "cell_type": "code",
      "metadata": {
        "id": "ZB0D0rfcT-_A",
        "colab_type": "code",
        "colab": {
          "base_uri": "https://localhost:8080/",
          "height": 265
        },
        "outputId": "846e34e2-60c1-478d-b78c-a1ed51cc8168"
      },
      "source": [
        "G = np.random.randn((10,10))"
      ],
      "execution_count": 27,
      "outputs": [
        {
          "output_type": "error",
          "ename": "TypeError",
          "evalue": "ignored",
          "traceback": [
            "\u001b[0;31m---------------------------------------------------------------------------\u001b[0m",
            "\u001b[0;31mTypeError\u001b[0m                                 Traceback (most recent call last)",
            "\u001b[0;32m<ipython-input-27-7d1f8881dd1c>\u001b[0m in \u001b[0;36m<module>\u001b[0;34m()\u001b[0m\n\u001b[0;32m----> 1\u001b[0;31m \u001b[0mG\u001b[0m \u001b[0;34m=\u001b[0m \u001b[0mnp\u001b[0m\u001b[0;34m.\u001b[0m\u001b[0mrandom\u001b[0m\u001b[0;34m.\u001b[0m\u001b[0mrandn\u001b[0m\u001b[0;34m(\u001b[0m\u001b[0;34m(\u001b[0m\u001b[0;36m10\u001b[0m\u001b[0;34m,\u001b[0m\u001b[0;36m10\u001b[0m\u001b[0;34m)\u001b[0m\u001b[0;34m)\u001b[0m\u001b[0;34m\u001b[0m\u001b[0;34m\u001b[0m\u001b[0m\n\u001b[0m",
            "\u001b[0;32mmtrand.pyx\u001b[0m in \u001b[0;36mmtrand.RandomState.randn\u001b[0;34m()\u001b[0m\n",
            "\u001b[0;32mmtrand.pyx\u001b[0m in \u001b[0;36mmtrand.RandomState.standard_normal\u001b[0;34m()\u001b[0m\n",
            "\u001b[0;32mmtrand.pyx\u001b[0m in \u001b[0;36mmtrand.cont0_array\u001b[0;34m()\u001b[0m\n",
            "\u001b[0;31mTypeError\u001b[0m: 'tuple' object cannot be interpreted as an integer"
          ]
        }
      ]
    },
    {
      "cell_type": "code",
      "metadata": {
        "id": "u47nNE-SUseB",
        "colab_type": "code",
        "colab": {}
      },
      "source": [
        "G = np.random.randn(10,10)"
      ],
      "execution_count": 0,
      "outputs": []
    },
    {
      "cell_type": "code",
      "metadata": {
        "id": "2uQ7ih-sUufv",
        "colab_type": "code",
        "colab": {
          "base_uri": "https://localhost:8080/",
          "height": 357
        },
        "outputId": "1e371333-52eb-4ebc-f19b-0eec3e9c82c6"
      },
      "source": [
        "G"
      ],
      "execution_count": 29,
      "outputs": [
        {
          "output_type": "execute_result",
          "data": {
            "text/plain": [
              "array([[ 1.2577941 , -0.58546589,  0.84968042, -0.37334882, -0.23096835,\n",
              "         0.29632743, -1.68945258,  2.44259952,  0.98751432,  0.08894844],\n",
              "       [-0.61662597,  1.52037593,  0.9486956 , -0.11178286,  0.79669388,\n",
              "        -1.88915544, -0.0513209 ,  0.55824709, -1.23465768,  0.02184767],\n",
              "       [-0.59941715, -0.08414716,  1.99547542,  0.0194855 ,  0.10082827,\n",
              "         0.0598301 ,  0.82783145,  1.51652546,  0.00328887,  1.43486974],\n",
              "       [-1.39668796,  0.51373968, -0.89830643, -0.344804  ,  1.38983036,\n",
              "        -2.35032606,  0.92929125, -0.17220326, -1.17820892, -1.10891391],\n",
              "       [-0.84542757, -0.0731635 ,  0.70913372,  0.20013697, -0.45635351,\n",
              "         0.86902285, -1.56811074, -0.22322415, -0.0819068 ,  0.78951157],\n",
              "       [-1.36231669, -0.00755452,  1.96224487,  1.05931922,  1.29972546,\n",
              "         0.62538107,  0.92237762,  1.25349499, -0.09052201,  0.83672057],\n",
              "       [-0.33024061,  0.65982473, -0.91412441,  1.19265359, -0.24550639,\n",
              "        -1.11457672, -0.89936907,  1.25377308,  0.44160752,  0.12314211],\n",
              "       [-0.53727871, -0.95645761,  0.68769261,  1.46515362,  0.50771055,\n",
              "         1.23740359,  0.54207572,  1.16721172,  0.29240292, -0.3924931 ],\n",
              "       [ 1.21267414, -0.92026948,  0.67692831, -0.30623033,  1.30525157,\n",
              "         0.14617121,  0.22364827,  1.17520814,  0.91037798, -0.48001979],\n",
              "       [-0.95376673, -1.03832977,  1.38891136, -1.06410893,  0.41563028,\n",
              "        -0.59772001,  0.20135855, -2.42517285, -0.58669153,  0.0086179 ]])"
            ]
          },
          "metadata": {
            "tags": []
          },
          "execution_count": 29
        }
      ]
    },
    {
      "cell_type": "code",
      "metadata": {
        "id": "b2DvFfQ6UwWP",
        "colab_type": "code",
        "colab": {
          "base_uri": "https://localhost:8080/",
          "height": 34
        },
        "outputId": "e2590418-1de4-4a1c-d35b-c31c6ee0d672"
      },
      "source": [
        "G.mean()"
      ],
      "execution_count": 30,
      "outputs": [
        {
          "output_type": "execute_result",
          "data": {
            "text/plain": [
              "0.12935490030000701"
            ]
          },
          "metadata": {
            "tags": []
          },
          "execution_count": 30
        }
      ]
    },
    {
      "cell_type": "code",
      "metadata": {
        "id": "9CwwMVYUUzQf",
        "colab_type": "code",
        "colab": {
          "base_uri": "https://localhost:8080/",
          "height": 34
        },
        "outputId": "c81c4b01-33d0-4549-baed-c555c9acffd5"
      },
      "source": [
        "G.var()"
      ],
      "execution_count": 31,
      "outputs": [
        {
          "output_type": "execute_result",
          "data": {
            "text/plain": [
              "0.9475721443124974"
            ]
          },
          "metadata": {
            "tags": []
          },
          "execution_count": 31
        }
      ]
    },
    {
      "cell_type": "code",
      "metadata": {
        "id": "-SBPzaqfU0Wu",
        "colab_type": "code",
        "colab": {}
      },
      "source": [
        ""
      ],
      "execution_count": 0,
      "outputs": []
    }
  ]
}